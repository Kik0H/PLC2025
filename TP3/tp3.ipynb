{
 "cells": [
  {
   "cell_type": "markdown",
   "id": "18602ab7",
   "metadata": {},
   "source": [
    "# TP3 - Analisador Léxico\n",
    "\n",
    "Construir um analisador léxico para uma linguagem de query com a qual se podem escrever frases do género:\n",
    "\n",
    "```sparql\n",
    "# DBPedia: obras de Chuck Berry\n",
    "select ?nome ?desc where {\n",
    "    ?s a dbo:MusicalArtist.\n",
    "    ?s foaf:name \"Chuck Berry\"@en .\n",
    "    ?w dbo:artist ?s.\n",
    "    ?w foaf:name ?nome.\n",
    "    ?w dbo:abstract ?desc\n",
    "} LIMIT 1000"
   ]
  },
  {
   "cell_type": "markdown",
   "id": "d59df193",
   "metadata": {},
   "source": [
    "## Tokens "
   ]
  },
  {
   "cell_type": "code",
   "execution_count": 3,
   "id": "4c4f3dfa",
   "metadata": {},
   "outputs": [],
   "source": [
    "tokens = [\n",
    "        ('NEWLINE',r\"\\n\"),\n",
    "        ('COMENTARIO', r\"#.*\"),\n",
    "        ('STRING', r'\"[^\"]*\"'),\n",
    "        ('SELECT', r\"\\bselect\\b\"),\n",
    "        ('WHERE', r\"\\bwhere\\b\"),\n",
    "        ('LIMIT', r\"\\bLIMIT\\b\"),\n",
    "        ('VAR', r\"\\?[A-Za-z_][A-Za-z0-9]*\"),\n",
    "        ('PREFIX', r\"[A-Za-z_][A-Za-z0-9_]*:[A-Za-z_][A-Za-z0-9_]*\"),\n",
    "        ('IDIOMA', r\"@[a-zA-Z\\-]+\"),\n",
    "        ('A', r\"\\ba\\b\"),\n",
    "        ('LBRACE', r\"\\{\"),\n",
    "        ('RBRACE', r\"\\}\"),\n",
    "        ('PONTO', r\"\\.\"),\n",
    "        ('NUM', r\"[0-9]+\"),\n",
    "        ('SKIP', r\"[ \\t\\r]+\"),\n",
    "        ('ERRO', r\".\")\n",
    "    ]"
   ]
  },
  {
   "cell_type": "markdown",
   "id": "d94c6cdd",
   "metadata": {},
   "source": [
    "## Código"
   ]
  },
  {
   "cell_type": "code",
   "execution_count": 4,
   "id": "4a3e3cfc",
   "metadata": {},
   "outputs": [],
   "source": [
    "import re\n",
    "\n",
    "def analisador(c):\n",
    "    reconhecidos = []\n",
    "    linha = 1\n",
    "    regex = '|'.join(f'(?P<{nome}>{pattern})' for nome, pattern in tokens)\n",
    "    val = re.finditer(regex,c)\n",
    "\n",
    "    for v in val:\n",
    "        dic = v.groupdict()\n",
    "        valor = v.group()\n",
    "        for k in dic:\n",
    "            if dic[k]:\n",
    "                tipo = k\n",
    "                break\n",
    "        \n",
    "        if tipo == 'NEWLINE':          \n",
    "            #vou considerar que não é suposto mostrar newlines\n",
    "            linha+=1\n",
    "        elif tipo not in ('SKIP', 'COMENTARIO'):    #nao faz sentido contar os comentarios ou os espaços\n",
    "            reconhecidos.append((tipo,valor,linha,v.span()))\n",
    "    \n",
    "    return reconhecidos\n"
   ]
  },
  {
   "cell_type": "markdown",
   "id": "dd666532",
   "metadata": {},
   "source": [
    "## Teste"
   ]
  },
  {
   "cell_type": "code",
   "execution_count": 5,
   "id": "72e68cd8",
   "metadata": {},
   "outputs": [
    {
     "name": "stdout",
     "output_type": "stream",
     "text": [
      "('SELECT', 'select', 2, (32, 38))\n",
      "('VAR', '?nome', 2, (39, 44))\n",
      "('VAR', '?desc', 2, (45, 50))\n",
      "('WHERE', 'where', 2, (51, 56))\n",
      "('LBRACE', '{', 2, (57, 58))\n",
      "('VAR', '?s', 3, (59, 61))\n",
      "('A', 'a', 3, (62, 63))\n",
      "('PREFIX', 'dbo:MusicalArtist', 3, (64, 81))\n",
      "('PONTO', '.', 3, (81, 82))\n",
      "('VAR', '?s', 4, (83, 85))\n",
      "('PREFIX', 'foaf:name', 4, (86, 95))\n",
      "('STRING', '\"Chuck Berry\"', 4, (96, 109))\n",
      "('IDIOMA', '@en', 4, (109, 112))\n",
      "('PONTO', '.', 4, (113, 114))\n",
      "('VAR', '?w', 5, (115, 117))\n",
      "('PREFIX', 'dbo:artist', 5, (118, 128))\n",
      "('VAR', '?s', 5, (129, 131))\n",
      "('PONTO', '.', 5, (131, 132))\n",
      "('VAR', '?w', 6, (133, 135))\n",
      "('PREFIX', 'foaf:name', 6, (136, 145))\n",
      "('VAR', '?nome', 6, (146, 151))\n",
      "('PONTO', '.', 6, (151, 152))\n",
      "('VAR', '?w', 7, (153, 155))\n",
      "('PREFIX', 'dbo:abstract', 7, (156, 168))\n",
      "('VAR', '?desc', 7, (169, 174))\n",
      "('RBRACE', '}', 8, (175, 176))\n",
      "('LIMIT', 'LIMIT', 8, (177, 182))\n",
      "('NUM', '1000', 8, (183, 187))\n"
     ]
    }
   ],
   "source": [
    "query = \"\"\"# DBPedia: obras de Chuck Berry\n",
    "select ?nome ?desc where {\n",
    "?s a dbo:MusicalArtist.\n",
    "?s foaf:name \"Chuck Berry\"@en .\n",
    "?w dbo:artist ?s.\n",
    "?w foaf:name ?nome.\n",
    "?w dbo:abstract ?desc\n",
    "} LIMIT 1000\n",
    "\"\"\"\n",
    "\n",
    "for t in analisador(query):\n",
    "    print (t)"
   ]
  }
 ],
 "metadata": {
  "kernelspec": {
   "display_name": "base",
   "language": "python",
   "name": "python3"
  },
  "language_info": {
   "codemirror_mode": {
    "name": "ipython",
    "version": 3
   },
   "file_extension": ".py",
   "mimetype": "text/x-python",
   "name": "python",
   "nbconvert_exporter": "python",
   "pygments_lexer": "ipython3",
   "version": "3.13.5"
  }
 },
 "nbformat": 4,
 "nbformat_minor": 5
}
